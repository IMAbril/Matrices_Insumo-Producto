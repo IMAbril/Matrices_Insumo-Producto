{
 "cells": [
  {
   "attachments": {},
   "cell_type": "markdown",
   "id": "5c0cbb93-2880-4750-975d-11cce9f6b12c",
   "metadata": {},
   "source": [
    "# Trabajo Práctico 1 - Matrices de Insumo Producto"
   ]
  },
  {
   "cell_type": "code",
   "execution_count": 6,
   "id": "c27d50b3-fcfb-44c1-882b-e55f1d49528a",
   "metadata": {},
   "outputs": [],
   "source": [
    "import sys\n",
    "sys.path.append('../src/')\n",
    "import funciones"
   ]
  },
  {
   "cell_type": "markdown",
   "id": "11f7face-a325-4e30-b13e-0c3d84280c5e",
   "metadata": {},
   "source": [
    "### Consigna 1 - "
   ]
  },
  {
   "cell_type": "markdown",
   "id": "e69c407d-9132-421c-8d02-508da3bb3ae6",
   "metadata": {},
   "source": []
  },
  {
   "cell_type": "markdown",
   "id": "94e15398-821c-42a1-a227-d71247e486e3",
   "metadata": {},
   "source": [
    "---"
   ]
  },
  {
   "cell_type": "markdown",
   "id": "6ea60699-4c07-40fb-8f71-ec4cacf32708",
   "metadata": {},
   "source": [
    "### Consigna 2 -  "
   ]
  },
  {
   "cell_type": "code",
   "execution_count": null,
   "id": "07f69bd8-9a22-4fa0-8e69-7e2580e80459",
   "metadata": {},
   "outputs": [],
   "source": []
  },
  {
   "cell_type": "markdown",
   "id": "284d1c5b-44ac-443c-8814-97518557629c",
   "metadata": {},
   "source": [
    "---"
   ]
  },
  {
   "cell_type": "markdown",
   "id": "cd1c8b62-9417-45b1-b77b-57caad448b88",
   "metadata": {},
   "source": [
    "### Consigna 3"
   ]
  },
  {
   "cell_type": "code",
   "execution_count": null,
   "id": "8a2dfbeb-09b1-43dd-b27a-d6f205daac8a",
   "metadata": {},
   "outputs": [],
   "source": []
  },
  {
   "cell_type": "markdown",
   "id": "31b68ddb-e73c-4336-be9d-9063e6963864",
   "metadata": {},
   "source": [
    "---"
   ]
  },
  {
   "cell_type": "markdown",
   "id": "07291dbc-0748-469e-b2a7-50dea90f04c2",
   "metadata": {},
   "source": [
    "### Consigna 4"
   ]
  },
  {
   "cell_type": "markdown",
   "id": "d7b761da-f916-4126-874d-4909c9b3e0c8",
   "metadata": {},
   "source": [
    "El modelo de Leontief permite calcular la producción $\\mathbf{p}$ requerida en cada sector para cubrir tanto la demanda interna como externa. Esto se basa en resolver una ecuación de la forma $$ \\mathbf{p=(I-A)^{-1}d} $$ Donde la matriz $\\mathbf{A}$ describe los insumos requeridos por cada sector para generar su producto, $\\mathbf{I}$ es la matriz identidad y el vector $\\mathbf{d}$ la demanda externa.\n",
    "\n",
    "Consideremos el caso en el que la demanda externa $\\mathbf{d}$ cambia en un $\\mathbf{\\Delta d} = \\begin{pmatrix}\n",
    "0 \\\\\n",
    "0 \\\\\n",
    "1\n",
    "\\end{pmatrix}\n",
    "$. Entonces, la demanda externa se convierte en: $$ \\mathbf{d' = d + \\begin{pmatrix}\n",
    "0 \\\\\n",
    "0 \\\\\n",
    "1\n",
    "\\end{pmatrix}}$$\n",
    "\n",
    "Queremos saber cuánto cambia la producción $\\mathbf{p}$ como consecuencia de esto.\n",
    "\n",
    "La nueva producción, correspondiente a la nueva demanda, está dada por: $$ \\mathbf{p'=(I-A)^{-1}d'} $$\n",
    "\n",
    "Entonces la variación de $\\mathbf{p}$ es la diferencia entre la nueva producción y la anterior al cambio de la demanda \n",
    "$$\\mathbf{ \\Delta p = p' - p }$$\n",
    "\n",
    "Sustituyendo las ecuaciones para $\\mathbf{p}$ y $\\mathbf{p'}$, y tomando factor común $\\mathbf{(I-A)^{-1}}$ queda que \n",
    "$$\\mathbf{\\Delta p = (I-A)^{-1}(d'-d) = (I-A)^{-1} \\Delta d} $$\n",
    "\n",
    "Esta ecuación es una consecuencia de la linealidad del modelo, obtenemos que la matriz de Leontief actúa como aplicación lineal que tranforma los cambios en la demanda externa directamente en cambios en la producción. Más aún, como $\\mathbf{\\Delta d = \\begin{pmatrix}\n",
    "0 \\\\\n",
    "0 \\\\\n",
    "1\n",
    "\\end{pmatrix}}$ el producto $\\mathbf{(I-A)^{-1}\\Delta d}$ nos da la tercera columna de la matriz de Leontief. Este hecho nos hace notar que, en general, la columna $\\mathbf{i}$ de la matriz de Leontief te dice cuánto debe aumentar la producción en cada sector si hay un incremento unitario en la demanda del sector $\\mathbf{i}$. "
   ]
  }
 ],
 "metadata": {
  "kernelspec": {
   "display_name": "Python 3 (ipykernel)",
   "language": "python",
   "name": "python3"
  },
  "language_info": {
   "codemirror_mode": {
    "name": "ipython",
    "version": 3
   },
   "file_extension": ".py",
   "mimetype": "text/x-python",
   "name": "python",
   "nbconvert_exporter": "python",
   "pygments_lexer": "ipython3",
   "version": "3.12.4"
  }
 },
 "nbformat": 4,
 "nbformat_minor": 5
}
