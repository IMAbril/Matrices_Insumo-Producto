{
 "cells": [
  {
   "cell_type": "code",
   "execution_count": 85,
   "id": "aff72202-7354-4550-9da8-a8e7c38bec66",
   "metadata": {},
   "outputs": [
    {
     "data": {
      "text/latex": [
       "$\\displaystyle \\left[\\begin{matrix}\\frac{40}{29} & - \\frac{20}{29} & 0\\\\- \\frac{260}{87} & - \\frac{2480}{87} & - \\frac{20}{3}\\\\- \\frac{10}{29} & - \\frac{140}{29} & 0\\end{matrix}\\right]$"
      ],
      "text/plain": [
       "Matrix([\n",
       "[  40/29,   -20/29,     0],\n",
       "[-260/87, -2480/87, -20/3],\n",
       "[ -10/29,  -140/29,     0]])"
      ]
     },
     "execution_count": 85,
     "metadata": {},
     "output_type": "execute_result"
    }
   ],
   "source": [
    "##Codigo para hacer inversas simbolicas\n",
    "import sympy as sp\n",
    "\n",
    "# Define la matriz\n",
    "A = sp.Matrix([\n",
    "    [1 - 350, 0, 0], \n",
    "    [-50, 1 - 250, 150], \n",
    "    [-200, -150, 1 - 550]\n",
    "])\n",
    "\n",
    "# Calcula la inversa\n",
    "inverse_matrix = A.inv()\n",
    "\n",
    "# Muestra el resultado\n",
    "inverse_matrix\n",
    "\n",
    "#Consigna 3\n",
    "A = sp.Matrix([\n",
    "    [sp.Rational(3,10), sp.Rational(0,1), sp.Rational(1,10)],\n",
    "    [sp.Rational(1,20), sp.Rational(1,1), sp.Rational(1,5)],\n",
    "    [sp.Rational(1,10), sp.Rational(3,20), sp.Rational(1,10)]\n",
    "])\n",
    "\n",
    "d= sp.Matrix([\n",
    "    [sp.Rational(100,1)],\n",
    "    [sp.Rational(100,1)],\n",
    "    [sp.Rational(300,1)]\n",
    "])\n",
    "\n",
    "I = sp.eye(3)\n",
    "\n",
    "L = (I-A).inv()\n",
    "\n",
    "p = L*d\n",
    "L"
   ]
  }
 ],
 "metadata": {
  "kernelspec": {
   "display_name": "Python 3 (ipykernel)",
   "language": "python",
   "name": "python3"
  },
  "language_info": {
   "codemirror_mode": {
    "name": "ipython",
    "version": 3
   },
   "file_extension": ".py",
   "mimetype": "text/x-python",
   "name": "python",
   "nbconvert_exporter": "python",
   "pygments_lexer": "ipython3",
   "version": "3.12.4"
  }
 },
 "nbformat": 4,
 "nbformat_minor": 5
}
