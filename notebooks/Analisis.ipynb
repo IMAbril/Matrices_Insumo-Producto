{
 "cells": [
  {
   "cell_type": "code",
   "execution_count": 5,
   "id": "aff72202-7354-4550-9da8-a8e7c38bec66",
   "metadata": {},
   "outputs": [
    {
     "data": {
      "text/latex": [
       "$\\displaystyle \\left[\\begin{matrix}- \\frac{1}{349} & 0 & 0\\\\\\frac{19150}{18520383} & - \\frac{61}{17689} & - \\frac{50}{53067}\\\\\\frac{4700}{6173461} & \\frac{50}{53067} & - \\frac{83}{53067}\\end{matrix}\\right]$"
      ],
      "text/plain": [
       "Matrix([\n",
       "[        -1/349,         0,         0],\n",
       "[19150/18520383, -61/17689, -50/53067],\n",
       "[  4700/6173461,  50/53067, -83/53067]])"
      ]
     },
     "execution_count": 5,
     "metadata": {},
     "output_type": "execute_result"
    }
   ],
   "source": [
    "##Codigo para hacer inversas simbolicas\n",
    "import sympy as sp\n",
    "\n",
    "# Define la matriz\n",
    "A = sp.Matrix([\n",
    "    [1 - 350, 0, 0], \n",
    "    [-50, 1 - 250, 150], \n",
    "    [-200, -150, 1 - 550]\n",
    "])\n",
    "\n",
    "# Calcula la inversa\n",
    "inverse_matrix = A.inv()\n",
    "\n",
    "# Muestra el resultado\n",
    "inverse_matrix\n",
    "\n"
   ]
  }
 ],
 "metadata": {
  "kernelspec": {
   "display_name": "Python 3 (ipykernel)",
   "language": "python",
   "name": "python3"
  },
  "language_info": {
   "codemirror_mode": {
    "name": "ipython",
    "version": 3
   },
   "file_extension": ".py",
   "mimetype": "text/x-python",
   "name": "python",
   "nbconvert_exporter": "python",
   "pygments_lexer": "ipython3",
   "version": "3.12.4"
  }
 },
 "nbformat": 4,
 "nbformat_minor": 5
}
