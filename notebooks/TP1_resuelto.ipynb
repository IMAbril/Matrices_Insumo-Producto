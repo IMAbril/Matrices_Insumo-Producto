{
 "cells": [
  {
   "attachments": {},
   "cell_type": "markdown",
   "id": "5c0cbb93-2880-4750-975d-11cce9f6b12c",
   "metadata": {},
   "source": [
    "# Trabajo Práctico 1 - Matrices de Insumo Producto"
   ]
  },
  {
   "cell_type": "code",
   "execution_count": 1,
   "id": "c27d50b3-fcfb-44c1-882b-e55f1d49528a",
   "metadata": {},
   "outputs": [],
   "source": [
    "import sys\n",
    "sys.path.append('../src/')\n",
    "from funciones import *"
   ]
  },
  {
   "cell_type": "markdown",
   "id": "11f7face-a325-4e30-b13e-0c3d84280c5e",
   "metadata": {},
   "source": [
    "### Consigna 1 - "
   ]
  },
  {
   "cell_type": "markdown",
   "id": "e69c407d-9132-421c-8d02-508da3bb3ae6",
   "metadata": {},
   "source": []
  },
  {
   "cell_type": "markdown",
   "id": "94e15398-821c-42a1-a227-d71247e486e3",
   "metadata": {},
   "source": [
    "---"
   ]
  },
  {
   "cell_type": "markdown",
   "id": "6ea60699-4c07-40fb-8f71-ec4cacf32708",
   "metadata": {},
   "source": [
    "### Consigna 2 -  "
   ]
  },
  {
   "cell_type": "code",
   "execution_count": null,
   "id": "07f69bd8-9a22-4fa0-8e69-7e2580e80459",
   "metadata": {},
   "outputs": [],
   "source": []
  },
  {
   "cell_type": "markdown",
   "id": "284d1c5b-44ac-443c-8814-97518557629c",
   "metadata": {},
   "source": [
    "---"
   ]
  },
  {
   "cell_type": "markdown",
   "id": "da727fe5-c3cd-4966-9d42-ba9cc364897b",
   "metadata": {},
   "source": [
    "### Consigna 3"
   ]
  },
  {
   "cell_type": "markdown",
   "id": "3646fca9-f63e-4cef-a339-a132055c6637",
   "metadata": {},
   "source": [
    "Sean $$\\mathbf{A = \\begin{pmatrix} 0.3 & 0.0 & 0.1 \\\\ 0.05 & 1.0 & 0.2 \\\\ 0.1 & 0.15 & 0.1 \\end{pmatrix}, \\ \\ d = \\begin{pmatrix} 100 \\\\ 100 \\\\ 300 \\end{pmatrix}}$$\n",
    "Entonces, para obtener la producción $\\mathbf{p}$ necesaria de cada sector para satisfacer la demanda interna, representada por $\\mathbf{A}$ y la demanda externa, representada por $\\mathbf{d}$, resolvemos la ecuación del modelo de Leontief:\n",
    "$$ \\mathbf{p = (I-A)^{-1}d} $$\n",
    "En este proceso usamos funciones que calculan la factorización LU con pivoteo parcial y la inversa de una matriz dada su factorización LU y su matriz de permutación P. "
   ]
  },
  {
   "cell_type": "code",
   "execution_count": 8,
   "id": "bf7caf10-3c78-4225-a852-abf7a15f2411",
   "metadata": {},
   "outputs": [
    {
     "ename": "NameError",
     "evalue": "name 'np' is not defined",
     "output_type": "error",
     "traceback": [
      "\u001b[1;31m---------------------------------------------------------------------------\u001b[0m",
      "\u001b[1;31mNameError\u001b[0m                                 Traceback (most recent call last)",
      "Cell \u001b[1;32mIn[8], line 1\u001b[0m\n\u001b[1;32m----> 1\u001b[0m A \u001b[38;5;241m=\u001b[39m \u001b[43mnp\u001b[49m\u001b[38;5;241m.\u001b[39marray([[\u001b[38;5;241m0.3\u001b[39m,\u001b[38;5;241m0\u001b[39m,\u001b[38;5;241m0.1\u001b[39m],[\u001b[38;5;241m0.05\u001b[39m,\u001b[38;5;241m1\u001b[39m,\u001b[38;5;241m0.2\u001b[39m],[\u001b[38;5;241m0.1\u001b[39m,\u001b[38;5;241m0.15\u001b[39m,\u001b[38;5;241m0.1\u001b[39m]])\n\u001b[0;32m      2\u001b[0m d \u001b[38;5;241m=\u001b[39m np\u001b[38;5;241m.\u001b[39marray([[\u001b[38;5;241m100\u001b[39m],[\u001b[38;5;241m100\u001b[39m],[\u001b[38;5;241m300\u001b[39m]])\n\u001b[0;32m      3\u001b[0m I \u001b[38;5;241m=\u001b[39m np\u001b[38;5;241m.\u001b[39meye(\u001b[38;5;241m3\u001b[39m)\n",
      "\u001b[1;31mNameError\u001b[0m: name 'np' is not defined"
     ]
    }
   ],
   "source": [
    "A = np.array([[0.3,0,0.1],[0.05,1,0.2],[0.1,0.15,0.1]])\n",
    "d = np.array([[100],[100],[300]])\n",
    "I = np.eye(3)\n",
    "L, U, P = calcularLU(I-A)\n",
    "M = inversaLU(L,U, P)\n",
    "p = M@d\n",
    "p"
   ]
  },
  {
   "cell_type": "markdown",
   "id": "042ad1ef-a2e4-4b55-b256-261a9282cb4e",
   "metadata": {},
   "source": [
    "Obtenemos que $$\\mathbf{p \\approx \\begin{pmatrix} 69 \\\\ -5149 \\\\ -517 \\end{pmatrix} }$$\n",
    "En el contexto económico estos valores no tienen sentido, ya que ante una demanda externa positiva la producción debería ser positiva para satisfacerla, lo cual en este caso no se refleja pues los valores de producción de los sectores representados por las filas dos y tres en el vector $\\mathbf{p}$ son negativos. Esto sugiere que la aplicación económica limita los valores posibles para $\\mathbf{A}$ y $\\mathbf{d}$.\n",
    "\n",
    "Dado que en un contexto económico no deberíamos tener limitaciones en cuanto a la demanda posible a recibir, ya que justamente se busca encontrar la cantidad de producción necesaria para satisfacerla, nos enfocamos en estudiar la matriz $\\mathbf{A}$ dada. El modelo de Leontief menciona que $\\mathbf{A}$ no es una matriz cualquiera, sino que es la matriz de flujo, significando esto que la columna $j$ representa los insumos requeridos de cada sector $i$ para satisfacer la producción del sector $j$. De esta manera, $\\mathbf{A}$ debe representar adecuadamente las proporciones de insumo de cada sector. Si observamos la columna 2 vemos que el sector 2 requiere una unidad de producto del sector 2 para satisfacer la producción del sector 2, es decir que este sector es completamente autosuficiente para su propia producción, lo cual es inusual y puede no ser realista en un modelo económico. Concluimos que el resultado de $\\mathbf{p}$ obtenido se debe a que la matriz $\\mathbf{A}$ no refleja adecuadamente las dependencias de insumo-producto planteadas por el modelo de Leontief. \n"
   ]
  },
  {
   "cell_type": "markdown",
   "id": "31b68ddb-e73c-4336-be9d-9063e6963864",
   "metadata": {},
   "source": [
    "---"
   ]
  },
  {
   "cell_type": "markdown",
   "id": "07291dbc-0748-469e-b2a7-50dea90f04c2",
   "metadata": {},
   "source": [
    "### Consigna 4"
   ]
  },
  {
   "cell_type": "markdown",
   "id": "d7b761da-f916-4126-874d-4909c9b3e0c8",
   "metadata": {},
   "source": [
    "El modelo de Leontief permite calcular la producción $\\mathbf{p}$ requerida en cada sector para cubrir tanto la demanda interna como externa. Esto se basa en resolver una ecuación de la forma $$ \\mathbf{p=(I-A)^{-1}d} $$ Donde la matriz $\\mathbf{A}$ describe los insumos requeridos por cada sector para generar su producto, $\\mathbf{I}$ es la matriz identidad y el vector $\\mathbf{d}$ la demanda externa.\n",
    "\n",
    "Consideremos el caso en el que la demanda externa $\\mathbf{d}$ cambia en un $\\mathbf{\\Delta d} = \\begin{pmatrix}\n",
    "0 \\\\\n",
    "0 \\\\\n",
    "1\n",
    "\\end{pmatrix}\n",
    "$. Entonces, la demanda externa se convierte en: $$ \\mathbf{d' = d + \\begin{pmatrix}\n",
    "0 \\\\\n",
    "0 \\\\\n",
    "1\n",
    "\\end{pmatrix}}$$\n",
    "\n",
    "Queremos saber cuánto cambia la producción $\\mathbf{p}$ como consecuencia de esto.\n",
    "\n",
    "La nueva producción, correspondiente a la nueva demanda, está dada por: $$ \\mathbf{p'=(I-A)^{-1}d'} $$\n",
    "\n",
    "Entonces la variación de $\\mathbf{p}$ es la diferencia entre la nueva producción y la anterior al cambio de la demanda \n",
    "$$\\mathbf{ \\Delta p = p' - p }$$\n",
    "\n",
    "Sustituyendo las ecuaciones para $\\mathbf{p}$ y $\\mathbf{p'}$, y tomando factor común $\\mathbf{(I-A)^{-1}}$ queda que \n",
    "$$\\mathbf{\\Delta p = (I-A)^{-1}(d'-d) = (I-A)^{-1} \\Delta d} $$\n",
    "\n",
    "Esta ecuación es una consecuencia de la linealidad del modelo, obtenemos que la matriz de Leontief actúa como aplicación lineal que tranforma los cambios en la demanda externa directamente en cambios en la producción. Más aún, como $\\mathbf{\\Delta d = \\begin{pmatrix}\n",
    "0 \\\\\n",
    "0 \\\\\n",
    "1\n",
    "\\end{pmatrix}}$ el producto $\\mathbf{(I-A)^{-1}\\Delta d}$ nos da la tercera columna de la matriz de Leontief. Este hecho nos hace notar que, en general, la columna $\\mathbf{i}$ de la matriz de Leontief te dice cuánto debe aumentar la producción en cada sector si hay un incremento unitario en la demanda del sector $\\mathbf{i}$. "
   ]
  },
  {
   "cell_type": "markdown",
   "id": "2beffec5-c6ed-4992-a0f3-fc438f72c9da",
   "metadata": {},
   "source": [
    "---"
   ]
  },
  {
   "cell_type": "markdown",
   "id": "4a82471b-fbca-4aab-ae82-eae5a9ef93af",
   "metadata": {},
   "source": [
    "### Consigna 5"
   ]
  },
  {
   "cell_type": "markdown",
   "id": "558bb9e6-426b-40b1-a819-8f82e7401aa9",
   "metadata": {},
   "source": [
    "La matriz de coeficientes técnicos $\\mathbf{A}$ viene dada por la expresión\n",
    "$$ \\mathbf{A = ZP^{-1}} $$ \n",
    "Donde $\\mathbf{Z}$ es la matriz de insumos y $\\mathbf{ P^{-1} }$ la inversa de la matriz diagonal con el producto total de cada sector. De esta manera se tiene que $a_{ij}= \\frac{z_{ij}}{p_{jj}}$\n",
    "\n",
    "Si tenemos la siguiente economía, caracterizada por su matriz de insumos y su matriz diagonal de producto total:\n",
    "$$ \\mathbf{ Z = \\begin{pmatrix} 350 & 0 & 0 \\\\ 50 & 250 & 150 \\\\ 200 & 150 & 550 \\end{pmatrix}, \\ \\ P = \\begin{pmatrix} 1000 & 0 & 0 \\\\ 0 & 500 & 0 \\\\ 0 & 0 & 1000 \\end{pmatrix} } $$\n",
    "\n",
    "Debido a la simplicidad de su estructura, es fácil ver que la inversa de una matriz diagonal existe si ningún elemento de la diagonal es nulo, y en ese caso la inversa es la matriz diagonal cuyos elementos son los recíprocos de la matriz original:  $$ \\mathbf{ P^{-1} = \\begin{pmatrix} \\frac{1}{1000} & 0 & 0 \\\\ 0 & \\frac{1}{500} & 0 \\\\ 0 & 0 & \\frac{1}{1000} \\end{pmatrix} }$$\n",
    "\n",
    "Luego hacemos el producto y obtenemos la matriz A:\n",
    "\n",
    "$$ \\mathbf{ A = \\begin{pmatrix} 350 & 0 & 0 \\\\ 50 & 250 & 150 \\\\ 200 & 150 & 550 \\end{pmatrix} \\begin{pmatrix} \\frac{1}{1000} & 0 & 0 \\\\ 0 & \\frac{1}{500} & 0 \\\\ 0 & 0 & \\frac{1}{1000} \\end{pmatrix} = \\begin{pmatrix} \\frac{350}{1000} & 0 & 0 \\\\ \\frac{50}{1000} & \\frac{250}{500} & \\frac{150}{1000} \\\\ \\frac{200}{1000} & \\frac{150}{500} & \\frac{550}{1000} \\end{pmatrix} = \\begin{pmatrix} \\frac{7}{20} & 0 & 0 \\\\ \\frac{1}{20} & \\frac{1}{2} & \\frac{3}{20} \\\\ \\frac{1}{5} & \\frac{3}{10} & \\frac{11}{20} \\end{pmatrix}}$$\n",
    "\n",
    "La matriz de Leontief viene dada por $\\mathbf{L := (I-A)^{-1}}$:\n",
    "\n",
    "$$\\mathbf{L = \\begin{pmatrix} 1-\\frac{7}{20} & 0 & 0 \\\\ -\\frac{1}{20} & 1-\\frac{1}{2} & -\\frac{3}{20} \\\\ -\\frac{1}{5} & -\\frac{3}{10} & 1-\\frac{11}{20} \\end{pmatrix}^{-1} = \\begin{pmatrix} \\frac{20}{13} & 0 & 0 \\\\ \\frac{35}{78} & \\frac{5}{2} & \\frac{5}{6} \\\\ \\frac{115}{117} & \\frac{5}{3} & \\frac{25}{9} \\end{pmatrix} }$$\n",
    "\n"
   ]
  },
  {
   "cell_type": "markdown",
   "id": "93e7343f-e4c3-4f08-87f5-d9f5c29185a9",
   "metadata": {},
   "source": [
    "---"
   ]
  },
  {
   "cell_type": "markdown",
   "id": "e86a7238-d388-4013-83ad-ff9961762ec8",
   "metadata": {},
   "source": [
    "### Consigna 6"
   ]
  },
  {
   "cell_type": "markdown",
   "id": "1e422fb8-bb3b-4f9b-be3e-0b8d1104ed25",
   "metadata": {},
   "source": [
    "La formula (4) nos dice que:"
   ]
  },
  {
   "cell_type": "markdown",
   "id": "2d6a4d12-8d8e-4e2e-a108-a5b0b3f21018",
   "metadata": {},
   "source": [
    "$$ \\large \\left( \\begin{pmatrix}\n",
    "I_{n \\times n} & 0_{n \\times m} \\\\\n",
    "0_{m \\times n} & I_{m \\times m}\n",
    "\\end{pmatrix} - \\begin{pmatrix}\n",
    "A^{rr} & A^{rs} \\\\\n",
    "A^{sr} & A^{ss}\n",
    "\\end{pmatrix} \\right) \n",
    "\\begin{pmatrix}\n",
    "p^{r} \\\\\n",
    "p^{s}\n",
    "\\end{pmatrix} =\n",
    "\\begin{pmatrix}\n",
    "d^{r} \\\\\n",
    "d^{s}\n",
    "\\end{pmatrix}\n",
    "$$"
   ]
  },
  {
   "cell_type": "markdown",
   "id": "85a4eec7-1ea7-467b-b33c-a22367315ca1",
   "metadata": {},
   "source": [
    "Consideremos ahora una variación en $d^{r}$, lo que nos lleva a obtener una nueva demanda $d' ^{r}$. Al hacer esto, debemos tomar en cuenta las posibles variaciones que esto genere sobre $p^{r}$ y $p^{s}$, y que darán lugar a $p'^{r}$ y $p'^{s}$. Con esto en mente, podemos derivar la siguiente expresión ante cambios en $d^{r}$:    "
   ]
  },
  {
   "cell_type": "markdown",
   "id": "5f656110-6c55-45af-9d54-b37015bcc7e9",
   "metadata": {},
   "source": [
    " $$ \\large \\left( \\begin{pmatrix}\n",
    "I_{n \\times n} & 0_{n \\times m} \\\\\n",
    "0_{m \\times n} & I_{m \\times m}\n",
    "\\end{pmatrix} - \\begin{pmatrix}\n",
    "A^{rr} & A^{rs} \\\\\n",
    "A^{sr} & A^{ss}\n",
    "\\end{pmatrix} \\right) \n",
    "\\begin{pmatrix}\n",
    "p'^{r} \\\\\n",
    "p'^{s}\n",
    "\\end{pmatrix} =\n",
    "\\begin{pmatrix}\n",
    "d'^{r} \\\\\n",
    "d^{s}\n",
    "\\end{pmatrix}\n",
    "$$"
   ]
  },
  {
   "cell_type": "markdown",
   "id": "2155bac4-d85b-40b4-9f07-9a6a5a2a2d0f",
   "metadata": {},
   "source": [
    "Si restamos la expresión 1 a la 2 obtenemos:"
   ]
  },
  {
   "cell_type": "markdown",
   "id": "cd7d9dd1-0550-4882-b327-98ca60ec0954",
   "metadata": {},
   "source": [
    "$$ \\large \\left( \\begin{pmatrix}\n",
    "I_{n \\times n} & 0_{n \\times m} \\\\\n",
    "0_{m \\times n} & I_{m \\times m}\n",
    "\\end{pmatrix} - \\begin{pmatrix}\n",
    "A^{rr} & A^{rs} \\\\\n",
    "A^{sr} & A^{ss}\n",
    "\\end{pmatrix} \\right) \n",
    "\\left(\n",
    "\\begin{pmatrix}\n",
    "p'^{r} \\\\\n",
    "p'^{s}\n",
    "\\end{pmatrix} - \n",
    "\\begin{pmatrix}\n",
    "p^{r} \\\\\n",
    "p^{s}\n",
    "\\end{pmatrix}\n",
    "\\right)=\n",
    "\\begin{pmatrix}\n",
    "d'^{r} \\\\\n",
    "d^{s}\n",
    "\\end{pmatrix}  - \n",
    "\\begin{pmatrix}\n",
    "d^{r} \\\\\n",
    "d^{s}\n",
    "\\end{pmatrix}\n",
    "$$       "
   ]
  },
  {
   "cell_type": "markdown",
   "id": "48178cb4-274b-40b3-b6f9-77eb659af539",
   "metadata": {},
   "source": [
    "O"
   ]
  },
  {
   "cell_type": "markdown",
   "id": "58eb05d3-8313-4b3c-b2f7-40bb99b86f4f",
   "metadata": {},
   "source": [
    "$$ \\large \\left( \\begin{pmatrix}\n",
    "I_{n \\times n} & 0_{n \\times m} \\\\\n",
    "0_{m \\times n} & I_{m \\times m}\n",
    "\\end{pmatrix} - \\begin{pmatrix}\n",
    "A^{rr} & A^{rs} \\\\\n",
    "A^{sr} & A^{ss}\n",
    "\\end{pmatrix} \\right) \n",
    "\\begin{pmatrix}\n",
    "\\Delta p^{r} \\\\\n",
    "\\Delta p^{s}\n",
    "\\end{pmatrix} =\n",
    "\\begin{pmatrix}\n",
    "\\Delta d^{r} \\\\\n",
    "0\n",
    "\\end{pmatrix} \n",
    "$$      "
   ]
  },
  {
   "cell_type": "markdown",
   "id": "9f01ab48-b52a-48a9-a203-5d6167b28e4d",
   "metadata": {},
   "source": [
    "Donde  $ \\ \\Delta p^{r} = p'^{r} - p^{r} $ , $ \\ \\Delta p^{s} = p'^{s} - p^{s} $ y $ \\ \\Delta d^{r} = d'^{r} - d^{r} $ . De la expresión anterior se puede despejar $ \\Delta p^{r} $ como sigue :"
   ]
  },
  {
   "cell_type": "markdown",
   "id": "f270dea0-dd0b-47f4-91bd-0a1c867d1405",
   "metadata": {},
   "source": [
    "$$ \\large \\begin{pmatrix}\n",
    "I - A^{rr}  & -A^{rs} \\\\\n",
    "-A^{sr} & I -  A^{ss}\n",
    "\\end{pmatrix} \n",
    "\\begin{pmatrix}\n",
    "\\Delta p^{r} \\\\\n",
    "\\Delta p^{s}\n",
    "\\end{pmatrix} =\n",
    "\\begin{pmatrix}\n",
    "\\Delta d^{r} \\\\\n",
    "0\n",
    "\\end{pmatrix} \\implies \\\\\n",
    "\\begin{pmatrix}\n",
    "    (I -  A^{rr}) \\ \\Delta p^{r} - A^{rs} \\Delta p^{s} \\\\\n",
    "    -A^{sr} \\ \\Delta p^{r} + (I - A^{ss}) \\Delta p^{s}\n",
    "\\end{pmatrix} =\n",
    "\\begin{pmatrix}\n",
    "    \\Delta d^{r} \\\\\n",
    "    0\n",
    "\\end{pmatrix}  \\implies \\newline\n",
    "\\left\\{\n",
    "\\begin{array}{l}\n",
    "(I -  A^{rr}) \\ \\Delta p^{r} - A^{rs} \\Delta p^{s} = \\Delta d^{r} \\\\\n",
    "-A^{sr} \\ \\Delta p^{r} + (I - A^{ss}) \\Delta p^{s} = 0\n",
    "\\end{array}\n",
    "\\right.\n",
    "$$      "
   ]
  },
  {
   "cell_type": "markdown",
   "id": "756a9660-25a5-4e98-8aed-0116e8f1b3b4",
   "metadata": {},
   "source": [
    "Suponiendo $(I - A^{ss})$ inversible:"
   ]
  },
  {
   "cell_type": "markdown",
   "id": "b218274d-4ef9-4146-92f5-2420475442be",
   "metadata": {},
   "source": [
    "$$ \\large \\implies\n",
    "\\left\\{\n",
    "\\begin{array}{l}\n",
    "(I -  A^{rr}) \\ \\Delta p^{r} - A^{rs} \\Delta p^{s} = \\Delta d^{r} \\\\\n",
    "-A^{sr} \\ \\Delta p^{r}  = - (I - A^{ss}) \\Delta p^{s}\n",
    "\\end{array}\n",
    "\\right. \\implies\n",
    "\\left\\{\n",
    "\\begin{array}{l}\n",
    "(I -  A^{rr}) \\ \\Delta p^{r} - A^{rs} \\Delta p^{s} = \\Delta d^{r} \\\\\n",
    "A^{sr} \\ \\Delta p^{r}  = (I - A^{ss}) \\Delta p^{s}\n",
    "\\end{array}\n",
    "\\right.  \\implies\n",
    "\\left\\{\n",
    "\\begin{array}{l}\n",
    "(I -  A^{rr}) \\ \\Delta p^{r} - A^{rs} \\Delta p^{s} = \\Delta d^{r} \\\\\n",
    "(I - A^{ss})^{-1} A^{sr} \\ \\Delta p^{r}  =  \\Delta p^{s}\n",
    "\\end{array}\n",
    "\\right.\n",
    "$$  "
   ]
  },
  {
   "cell_type": "markdown",
   "id": "1d218e04-3720-4a43-8a92-394823dc6c0d",
   "metadata": {},
   "source": [
    "Reemplazando en la primera ecuación :"
   ]
  },
  {
   "cell_type": "markdown",
   "id": "90a30a63-9cda-4d61-95bf-63c6e6ab2809",
   "metadata": {},
   "source": [
    "$$ \n",
    "(I -  A^{rr}) \\ \\Delta p^{r} - A^{rs} (I - A^{ss})^{-1} A^{sr} \\ \\Delta p^{r} = \\Delta d^{r} \\implies  (I -  A^{rr} -  A^{rs} (I - A^{ss})^{-1} A^{sr} ) \\ \\Delta p^{r} = \\Delta d^{r}\n",
    "$$"
   ]
  },
  {
   "cell_type": "markdown",
   "id": "9885e22e-d6a2-4b2c-aa7e-f7c6022cb620",
   "metadata": {},
   "source": [
    "Por último, si también $(I -  A^{rr} -  A^{rs} (I - A^{ss})^{-1} A^{sr} )$ es inversible entonces:"
   ]
  },
  {
   "cell_type": "markdown",
   "id": "df7143d5-8f21-428f-af70-4ea0ac7572d1",
   "metadata": {},
   "source": [
    "$$ \n",
    "  \\Delta p^{r} = (I -  A^{rr} -  A^{rs} (I - A^{ss})^{-1} A^{sr} )^{-1} \\Delta d^{r}\n",
    "$$"
   ]
  },
  {
   "cell_type": "markdown",
   "id": "be4e004f-a7b9-4cc4-8b02-6925da042729",
   "metadata": {},
   "source": [
    "Que es la expresión a la que quería llegar"
   ]
  },
  {
   "cell_type": "code",
   "execution_count": null,
   "id": "78073070-03f1-42b6-b14c-c68cba1cf104",
   "metadata": {},
   "outputs": [],
   "source": []
  }
 ],
 "metadata": {
  "kernelspec": {
   "display_name": "Python 3 (ipykernel)",
   "language": "python",
   "name": "python3"
  },
  "language_info": {
   "codemirror_mode": {
    "name": "ipython",
    "version": 3
   },
   "file_extension": ".py",
   "mimetype": "text/x-python",
   "name": "python",
   "nbconvert_exporter": "python",
   "pygments_lexer": "ipython3",
   "version": "3.12.4"
  }
 },
 "nbformat": 4,
 "nbformat_minor": 5
}
