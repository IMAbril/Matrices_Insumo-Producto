{
 "cells": [
  {
   "attachments": {},
   "cell_type": "markdown",
   "id": "5c0cbb93-2880-4750-975d-11cce9f6b12c",
   "metadata": {},
   "source": [
    "# Trabajo Práctico 1 - Matrices de Insumo Producto"
   ]
  },
  {
   "cell_type": "code",
   "execution_count": 18,
   "id": "c27d50b3-fcfb-44c1-882b-e55f1d49528a",
   "metadata": {},
   "outputs": [],
   "source": [
    "import sys\n",
    "sys.path.append('../src/')\n",
    "import matplotlib.pyplot as plt\n",
    "from funciones import *"
   ]
  },
  {
   "cell_type": "markdown",
   "id": "11f7face-a325-4e30-b13e-0c3d84280c5e",
   "metadata": {},
   "source": [
    "### Consigna 1 - "
   ]
  },
  {
   "cell_type": "markdown",
   "id": "e69c407d-9132-421c-8d02-508da3bb3ae6",
   "metadata": {},
   "source": [
    "El modelo de Leontief plantea que la economía se divide en distintos sectores donde cada uno de ellos genera una determinada cantidad de producción p:\n",
    "$$ \\mathbf{p = (I − A)^{−1}d} $$\n",
    "\n",
    "Esta fórmula se compone por un vector $d$ de demanda, la matriz $A$ de insumos y la matriz inversa de $(I-A)$, o $L$, que se conoce como la matriz de Leontief, donde las soluciones que podremos obtener respecto a la producción obtenida por cada sector estarán condicionadas principalmente por la invertibilidad de la matriz de Leontief y los valores $d$ de demanda. \n",
    "\n",
    "\n",
    "#### Matrices invertibles\n",
    "Por un lado, que una matriz sea invertible nos asegura que, cuando apliquemos el método de la eliminación gaussiana para obtener una una matriz triangular, vamos a obtener una única solución particular al sistema (SCD). Lo cual es debido a que una matriz invertible tiene todas sus filas linealmente independientes, ningun vector, sea una fila o columna, es combinación de otra y no se anula ninguna fila. Esta característica nos va a permitir poder despejar nuestro sistema y obtener un valor específico por cada una de las variables que tenga, conformando un único vector, nuestra solución.\n",
    "\n",
    "*a)* En el primer caso la matriz $(I-A)$ es inversible y, en conclusion a lo que se mencionó anteriormente, vamos a tener un sistema compatible determinado, donde existe una única posible solución a este problema:\n",
    "\n",
    "$$ p = (I − A)^{−1}d $$\n",
    "\n",
    "Finalmente podemos estimar un vector específico de la cantidad de producción $p$, ligado a los valores $d$ de demanda y la matriz de insumos $A$. \n",
    "\n",
    "*b)* En este caso, la demanda es el vector nulo, por lo tanto la producción que obtendremos es también nula. \n",
    "\n",
    "$$ (I - A)p=0 \\Longrightarrow p=0 $$ \n",
    "\n",
    "Esta solución, perteneciente al núcleo de la matriz, es única debido a que la invertibilidad de la matriz. Así, el sistema que queda conformado es un sistema homogéneo compatible determinado.\n",
    "\n",
    "En otras palabras, que sea invertible nos asegura que tenga una única solución (SCD) que depende particularmente de la demanda $d$. En el segundo caso b) podemos profundizar un poco más ya que esta $d$ está establecida, entonces sabemos cual es esta única solución ($p=0$).\n",
    "\n",
    "\n",
    "### Matrices no invertibles\n",
    "\n",
    "Cuando tenemos una matriz no invertible, las filas o columnas de aquella son linealmente dependientes. Frente a ello, podemos hallar dos casos, que no haya solución alguna (SI) o que haya infinitas soluciones al sistema (SCI). Este primer caso ocurre cuando al triangular la matriz en la eliminación gaussiana llegamos a un absurdo. Por otro lado, en el segundo caso, no llegamos a este punto, ya que cuando se anulan las filas, el término independiente también es nulo.\n",
    "\n",
    "*c)* En este punto, cuando la matriz no es inversible, no podemos asegurar que haya una solución particular, sino que puede que no haya solución (sistema incompatible) o que, de hecho, haya infinitas soluciones (sistema compatible indeterminado).\n",
    "\n",
    "$$ (I-A)p=d $$\n",
    "\n",
    "*d)* Por último, al establecer d=0 obtenemos la solución particular p=0, pero la matriz al no ser invertible tiene infinitas soluciones (sistema compatible indeterminado), y el núcleo tiene una dimensión mayor a cero.\n",
    "\n",
    "$$ (I - A)p=0 $$"
   ]
  },
  {
   "cell_type": "markdown",
   "id": "94e15398-821c-42a1-a227-d71247e486e3",
   "metadata": {},
   "source": [
    "---"
   ]
  },
  {
   "cell_type": "markdown",
   "id": "284d1c5b-44ac-443c-8814-97518557629c",
   "metadata": {},
   "source": [
    "---"
   ]
  },
  {
   "cell_type": "markdown",
   "id": "da727fe5-c3cd-4966-9d42-ba9cc364897b",
   "metadata": {},
   "source": [
    "### Consigna 3"
   ]
  },
  {
   "cell_type": "markdown",
   "id": "3646fca9-f63e-4cef-a339-a132055c6637",
   "metadata": {},
   "source": [
    "Sean $$\\mathbf{A = \\begin{pmatrix} 0.3 & 0.0 & 0.1 \\\\ 0.05 & 1.0 & 0.2 \\\\ 0.1 & 0.15 & 0.1 \\end{pmatrix}, \\ \\ d = \\begin{pmatrix} 100 \\\\ 100 \\\\ 300 \\end{pmatrix}}$$\n",
    "Entonces, para obtener la producción $\\mathbf{p}$ necesaria de cada sector para satisfacer la demanda interna, representada por $\\mathbf{A}$ y la demanda externa, representada por $\\mathbf{d}$, resolvemos la ecuación del modelo de Leontief:\n",
    "$$ \\mathbf{p = (I-A)^{-1}d} $$\n",
    "En este proceso usamos funciones que calculan la factorización LU con pivoteo parcial y la inversa de una matriz dada su factorización LU y su matriz de permutación P. "
   ]
  },
  {
   "cell_type": "code",
   "execution_count": 3,
   "id": "bf7caf10-3c78-4225-a852-abf7a15f2411",
   "metadata": {},
   "outputs": [
    {
     "data": {
      "text/plain": [
       "array([[   68.96551724],\n",
       "       [-5149.42528736],\n",
       "       [ -517.24137931]])"
      ]
     },
     "execution_count": 3,
     "metadata": {},
     "output_type": "execute_result"
    }
   ],
   "source": [
    "A = np.array([[0.3,0,0.1],[0.05,1,0.2],[0.1,0.15,0.1]])\n",
    "d = np.array([[100],[100],[300]])\n",
    "I = np.eye(3)\n",
    "L, U, P = calcularLU(I-A)\n",
    "M = inversaLU(L,U, P)\n",
    "p = M@d\n",
    "p"
   ]
  },
  {
   "cell_type": "markdown",
   "id": "042ad1ef-a2e4-4b55-b256-261a9282cb4e",
   "metadata": {},
   "source": [
    "Obtenemos que $$\\mathbf{p \\approx \\begin{pmatrix} 69 \\\\ -5149 \\\\ -517 \\end{pmatrix} }$$\n",
    "En el contexto económico estos valores no tienen sentido, ya que ante una demanda externa positiva la producción debería ser positiva para satisfacerla, lo cual en este caso no se refleja pues los valores de producción de los sectores representados por las filas dos y tres en el vector $\\mathbf{p}$ son negativos. Esto sugiere que la aplicación económica limita los valores posibles para $\\mathbf{A}$ y $\\mathbf{d}$.\n",
    "\n",
    "Dado que en un contexto económico no deberíamos tener limitaciones en cuanto a la demanda posible a recibir, ya que justamente se busca encontrar la cantidad de producción necesaria para satisfacerla, nos enfocamos en estudiar la matriz $\\mathbf{A}$ dada. El modelo de Leontief menciona que $\\mathbf{A}$ no es una matriz cualquiera, sino que es la matriz de flujo, significando esto que la columna $j$ representa los insumos requeridos de cada sector $i$ para satisfacer la producción del sector $j$. De esta manera, $\\mathbf{A}$ debe representar adecuadamente las proporciones de insumo de cada sector. Si observamos la columna 2 vemos que el sector 2 requiere una unidad de producto del sector 2 para satisfacer la producción del sector 2, es decir que este sector es completamente autosuficiente para su propia producción, lo cual es inusual y puede no ser realista en un modelo económico. Concluimos que el resultado de $\\mathbf{p}$ obtenido se debe a que la matriz $\\mathbf{A}$ no refleja adecuadamente las dependencias de insumo-producto planteadas por el modelo de Leontief. \n"
   ]
  },
  {
   "cell_type": "markdown",
   "id": "31b68ddb-e73c-4336-be9d-9063e6963864",
   "metadata": {},
   "source": [
    "---"
   ]
  },
  {
   "cell_type": "markdown",
   "id": "07291dbc-0748-469e-b2a7-50dea90f04c2",
   "metadata": {},
   "source": [
    "### Consigna 4"
   ]
  },
  {
   "cell_type": "markdown",
   "id": "d7b761da-f916-4126-874d-4909c9b3e0c8",
   "metadata": {},
   "source": [
    "El modelo de Leontief permite calcular la producción $\\mathbf{p}$ requerida en cada sector para cubrir tanto la demanda interna como externa. Esto se basa en resolver una ecuación de la forma $$ \\mathbf{p=(I-A)^{-1}d} $$ Donde la matriz $\\mathbf{A}$ describe los insumos requeridos por cada sector para generar su producto, $\\mathbf{I}$ es la matriz identidad y el vector $\\mathbf{d}$ la demanda externa.\n",
    "\n",
    "Consideremos el caso en el que la demanda externa $\\mathbf{d}$ cambia en un $\\mathbf{\\Delta d} = \\begin{pmatrix}\n",
    "0 \\\\\n",
    "0 \\\\\n",
    "1\n",
    "\\end{pmatrix}\n",
    "$. Entonces, la demanda externa se convierte en: $$ \\mathbf{d' = d + \\begin{pmatrix}\n",
    "0 \\\\\n",
    "0 \\\\\n",
    "1\n",
    "\\end{pmatrix}}$$\n",
    "\n",
    "Queremos saber cuánto cambia la producción $\\mathbf{p}$ como consecuencia de esto.\n",
    "\n",
    "La nueva producción, correspondiente a la nueva demanda, está dada por: $$ \\mathbf{p'=(I-A)^{-1}d'} $$\n",
    "\n",
    "Entonces la variación de $\\mathbf{p}$ es la diferencia entre la nueva producción y la anterior al cambio de la demanda \n",
    "$$\\mathbf{ \\Delta p = p' - p }$$\n",
    "\n",
    "Sustituyendo las ecuaciones para $\\mathbf{p}$ y $\\mathbf{p'}$, y tomando factor común $\\mathbf{(I-A)^{-1}}$ queda que \n",
    "$$\\mathbf{\\Delta p = (I-A)^{-1}(d'-d) = (I-A)^{-1} \\Delta d} $$\n",
    "\n",
    "Esta ecuación es una consecuencia de la linealidad del modelo, obtenemos que la matriz de Leontief actúa como aplicación lineal que tranforma los cambios en la demanda externa directamente en cambios en la producción. Más aún, como $\\mathbf{\\Delta d = \\begin{pmatrix}\n",
    "0 \\\\\n",
    "0 \\\\\n",
    "1\n",
    "\\end{pmatrix}}$ el producto $\\mathbf{(I-A)^{-1}\\Delta d}$ nos da la tercera columna de la matriz de Leontief. Este hecho nos hace notar que, en general, la columna $\\mathbf{i}$ de la matriz de Leontief te dice cuánto debe aumentar la producción en cada sector si hay un incremento unitario en la demanda del sector $\\mathbf{i}$. "
   ]
  },
  {
   "cell_type": "markdown",
   "id": "2beffec5-c6ed-4992-a0f3-fc438f72c9da",
   "metadata": {},
   "source": [
    "---"
   ]
  },
  {
   "cell_type": "markdown",
   "id": "4a82471b-fbca-4aab-ae82-eae5a9ef93af",
   "metadata": {},
   "source": [
    "### Consigna 5"
   ]
  },
  {
   "cell_type": "markdown",
   "id": "558bb9e6-426b-40b1-a819-8f82e7401aa9",
   "metadata": {},
   "source": [
    "La matriz de coeficientes técnicos $\\mathbf{A}$ viene dada por la expresión\n",
    "$$ \\mathbf{A = ZP^{-1}} $$ \n",
    "Donde $\\mathbf{Z}$ es la matriz de insumos y $\\mathbf{ P^{-1} }$ la inversa de la matriz diagonal con el producto total de cada sector. De esta manera se tiene que $a_{ij}= \\frac{z_{ij}}{p_{jj}}$\n",
    "\n",
    "Si tenemos la siguiente economía, caracterizada por su matriz de insumos y su matriz diagonal de producto total:\n",
    "$$ \\mathbf{ Z = \\begin{pmatrix} 350 & 0 & 0 \\\\ 50 & 250 & 150 \\\\ 200 & 150 & 550 \\end{pmatrix}, \\ \\ P = \\begin{pmatrix} 1000 & 0 & 0 \\\\ 0 & 500 & 0 \\\\ 0 & 0 & 1000 \\end{pmatrix} } $$\n",
    "\n",
    "Debido a la simplicidad de su estructura, es fácil ver que la inversa de una matriz diagonal existe si ningún elemento de la diagonal es nulo, y en ese caso la inversa es la matriz diagonal cuyos elementos son los recíprocos de la matriz original:  $$ \\mathbf{ P^{-1} = \\begin{pmatrix} \\frac{1}{1000} & 0 & 0 \\\\ 0 & \\frac{1}{500} & 0 \\\\ 0 & 0 & \\frac{1}{1000} \\end{pmatrix} }$$\n",
    "\n",
    "Luego hacemos el producto y obtenemos la matriz A:\n",
    "\n",
    "$$ \\mathbf{ A = \\begin{pmatrix} 350 & 0 & 0 \\\\ 50 & 250 & 150 \\\\ 200 & 150 & 550 \\end{pmatrix} \\begin{pmatrix} \\frac{1}{1000} & 0 & 0 \\\\ 0 & \\frac{1}{500} & 0 \\\\ 0 & 0 & \\frac{1}{1000} \\end{pmatrix} = \\begin{pmatrix} \\frac{350}{1000} & 0 & 0 \\\\ \\frac{50}{1000} & \\frac{250}{500} & \\frac{150}{1000} \\\\ \\frac{200}{1000} & \\frac{150}{500} & \\frac{550}{1000} \\end{pmatrix} = \\begin{pmatrix} \\frac{7}{20} & 0 & 0 \\\\ \\frac{1}{20} & \\frac{1}{2} & \\frac{3}{20} \\\\ \\frac{1}{5} & \\frac{3}{10} & \\frac{11}{20} \\end{pmatrix}}$$\n",
    "\n",
    "La matriz de Leontief viene dada por $\\mathbf{L := (I-A)^{-1}}$:\n",
    "\n",
    "$$\\mathbf{L = \\begin{pmatrix} 1-\\frac{7}{20} & 0 & 0 \\\\ -\\frac{1}{20} & 1-\\frac{1}{2} & -\\frac{3}{20} \\\\ -\\frac{1}{5} & -\\frac{3}{10} & 1-\\frac{11}{20} \\end{pmatrix}^{-1} = \\begin{pmatrix} \\frac{20}{13} & 0 & 0 \\\\ \\frac{35}{78} & \\frac{5}{2} & \\frac{5}{6} \\\\ \\frac{115}{117} & \\frac{5}{3} & \\frac{25}{9} \\end{pmatrix} }$$\n",
    "\n"
   ]
  },
  {
   "cell_type": "code",
   "execution_count": 48,
   "id": "19dd9dc4-aeea-45de-a50e-82aeb551e9e1",
   "metadata": {},
   "outputs": [
    {
     "data": {
      "text/plain": [
       "array([[1.53846154, 0.        , 0.        ],\n",
       "       [0.44871795, 2.5       , 0.83333333],\n",
       "       [0.98290598, 1.66666667, 2.77777778]])"
      ]
     },
     "execution_count": 48,
     "metadata": {},
     "output_type": "execute_result"
    }
   ],
   "source": [
    "Z = np.array([[350, 0, 0], [50, 250, 150],[200, 150, 550]])\n",
    "P = np.array([[1000, 0, 0], [0, 500, 0], [0, 0, 1000]])\n",
    "I = np.eye(3)\n",
    "\n",
    "#Obtenemos los coeficientes técnicos\n",
    "L, U, _ = calcularLU(P)\n",
    "P_inv = inversaLU(L,U)\n",
    "A = Z@P_inv\n",
    "\n",
    "#Obtenemos la matriz de Leontief\n",
    "L, U, P = calcularLU(I-A)\n",
    "Leontief = inversaLU(L,U,P)\n",
    "Leontief"
   ]
  },
  {
   "cell_type": "markdown",
   "id": "93e7343f-e4c3-4f08-87f5-d9f5c29185a9",
   "metadata": {},
   "source": [
    "---"
   ]
  },
  {
   "cell_type": "markdown",
   "id": "e86a7238-d388-4013-83ad-ff9961762ec8",
   "metadata": {},
   "source": [
    "### Consigna 6"
   ]
  },
  {
   "cell_type": "markdown",
   "id": "c5392780-098b-401d-9637-15c06edfb59a",
   "metadata": {},
   "source": [
    "La formula (4) nos dice que:"
   ]
  },
  {
   "cell_type": "markdown",
   "id": "e342fac7-76d3-449b-b2d4-2645088fffb6",
   "metadata": {},
   "source": [
    "$$ \\large \\left( \\begin{pmatrix}\n",
    "I_{n \\times n} & 0_{n \\times m} \\\\\n",
    "0_{m \\times n} & I_{m \\times m}\n",
    "\\end{pmatrix} - \\begin{pmatrix}\n",
    "A^{rr} & A^{rs} \\\\\n",
    "A^{sr} & A^{ss}\n",
    "\\end{pmatrix} \\right) \n",
    "\\begin{pmatrix}\n",
    "p^{r} \\\\\n",
    "p^{s}\n",
    "\\end{pmatrix} =\n",
    "\\begin{pmatrix}\n",
    "d^{r} \\\\\n",
    "d^{s}\n",
    "\\end{pmatrix}\n",
    "$$"
   ]
  },
  {
   "cell_type": "markdown",
   "id": "da3504a4-9a11-4337-ae1f-502bff7f16bf",
   "metadata": {},
   "source": [
    "Consideremos ahora una variación en $d^{r}$, lo que nos lleva a obtener una nueva demanda $d' ^{r}$. Al hacer esto, debemos tomar en cuenta las posibles variaciones que esto genere sobre $p^{r}$ y $p^{s}$, y que darán lugar a $p'^{r}$ y $p'^{s}$. Con esto en mente, podemos derivar la siguiente expresión ante cambios en $d^{r}$:    "
   ]
  },
  {
   "cell_type": "markdown",
   "id": "69cfe7bc-834d-4b74-b337-80ab3455a904",
   "metadata": {},
   "source": [
    " $$ \\large \\left( \\begin{pmatrix}\n",
    "I_{n \\times n} & 0_{n \\times m} \\\\\n",
    "0_{m \\times n} & I_{m \\times m}\n",
    "\\end{pmatrix} - \\begin{pmatrix}\n",
    "A^{rr} & A^{rs} \\\\\n",
    "A^{sr} & A^{ss}\n",
    "\\end{pmatrix} \\right) \n",
    "\\begin{pmatrix}\n",
    "p'^{r} \\\\\n",
    "p'^{s}\n",
    "\\end{pmatrix} =\n",
    "\\begin{pmatrix}\n",
    "d'^{r} \\\\\n",
    "d^{s}\n",
    "\\end{pmatrix}\n",
    "$$"
   ]
  },
  {
   "cell_type": "markdown",
   "id": "995cf3b1-6342-402e-a485-44735ae0c971",
   "metadata": {},
   "source": [
    "Si restamos la expresión 1 a la 2 obtenemos:"
   ]
  },
  {
   "cell_type": "markdown",
   "id": "dfde574c-99c7-48f9-86ce-ff5aab148c8f",
   "metadata": {},
   "source": [
    "$$ \\large \\left( \\begin{pmatrix}\n",
    "I_{n \\times n} & 0_{n \\times m} \\\\\n",
    "0_{m \\times n} & I_{m \\times m}\n",
    "\\end{pmatrix} - \\begin{pmatrix}\n",
    "A^{rr} & A^{rs} \\\\\n",
    "A^{sr} & A^{ss}\n",
    "\\end{pmatrix} \\right) \n",
    "\\left(\n",
    "\\begin{pmatrix}\n",
    "p'^{r} \\\\\n",
    "p'^{s}\n",
    "\\end{pmatrix} - \n",
    "\\begin{pmatrix}\n",
    "p^{r} \\\\\n",
    "p^{s}\n",
    "\\end{pmatrix}\n",
    "\\right)=\n",
    "\\begin{pmatrix}\n",
    "d'^{r} \\\\\n",
    "d^{s}\n",
    "\\end{pmatrix}  - \n",
    "\\begin{pmatrix}\n",
    "d^{r} \\\\\n",
    "d^{s}\n",
    "\\end{pmatrix}\n",
    "$$       "
   ]
  },
  {
   "cell_type": "markdown",
   "id": "e5c3a24b-8a3a-469e-9e32-6175fac2a508",
   "metadata": {},
   "source": [
    "O equivalentemente:"
   ]
  },
  {
   "cell_type": "markdown",
   "id": "efe006bd-44dd-4300-8e51-a7cf859e34d2",
   "metadata": {},
   "source": [
    "$$ \\large \\left( \\begin{pmatrix}\n",
    "I_{n \\times n} & 0_{n \\times m} \\\\\n",
    "0_{m \\times n} & I_{m \\times m}\n",
    "\\end{pmatrix} - \\begin{pmatrix}\n",
    "A^{rr} & A^{rs} \\\\\n",
    "A^{sr} & A^{ss}\n",
    "\\end{pmatrix} \\right) \n",
    "\\begin{pmatrix}\n",
    "\\Delta p^{r} \\\\\n",
    "\\Delta p^{s}\n",
    "\\end{pmatrix} =\n",
    "\\begin{pmatrix}\n",
    "\\Delta d^{r} \\\\\n",
    "0\n",
    "\\end{pmatrix} \n",
    "$$      "
   ]
  },
  {
   "cell_type": "markdown",
   "id": "5a4b6610-24f9-4152-8eaf-4196da868b70",
   "metadata": {},
   "source": [
    "Donde  $ \\ \\Delta p^{r} = p'^{r} - p^{r} $ , $ \\ \\Delta p^{s} = p'^{s} - p^{s} $ y $ \\ \\Delta d^{r} = d'^{r} - d^{r} $ . De la expresión anterior se puede despejar $ \\Delta p^{r} $ como sigue :"
   ]
  },
  {
   "cell_type": "markdown",
   "id": "ba444e33-6734-4d14-90f5-601be0cb9fc3",
   "metadata": {},
   "source": [
    "$$ \\large \\begin{pmatrix}\n",
    "I - A^{rr}  & -A^{rs} \\\\\n",
    "-A^{sr} & I -  A^{ss}\n",
    "\\end{pmatrix} \n",
    "\\begin{pmatrix}\n",
    "\\Delta p^{r} \\\\\n",
    "\\Delta p^{s}\n",
    "\\end{pmatrix} =\n",
    "\\begin{pmatrix}\n",
    "\\Delta d^{r} \\\\\n",
    "0\n",
    "\\end{pmatrix} \\implies \\\\\n",
    "\\begin{pmatrix}\n",
    "    (I -  A^{rr}) \\ \\Delta p^{r} - A^{rs} \\Delta p^{s} \\\\\n",
    "    -A^{sr} \\ \\Delta p^{r} + (I - A^{ss}) \\Delta p^{s}\n",
    "\\end{pmatrix} =\n",
    "\\begin{pmatrix}\n",
    "    \\Delta d^{r} \\\\\n",
    "    0\n",
    "\\end{pmatrix}  \\implies \\newline\n",
    "\\left\\{\n",
    "\\begin{array}{l}\n",
    "(I -  A^{rr}) \\ \\Delta p^{r} - A^{rs} \\Delta p^{s} = \\Delta d^{r} \\\\\n",
    "-A^{sr} \\ \\Delta p^{r} + (I - A^{ss}) \\Delta p^{s} = 0\n",
    "\\end{array}\n",
    "\\right.\n",
    "$$      "
   ]
  },
  {
   "cell_type": "markdown",
   "id": "8e3d0326-fafa-4932-ad17-fc9805c699e0",
   "metadata": {},
   "source": [
    "Suponiendo $(I - A^{ss})$ inversible por el modelo de región simple visto en la consigna 4:"
   ]
  },
  {
   "cell_type": "markdown",
   "id": "167f7277-7738-4a91-8b35-94e8c3a87ba5",
   "metadata": {},
   "source": [
    "$$ \\large \\implies\n",
    "\\left\\{\n",
    "\\begin{array}{l}\n",
    "(I -  A^{rr}) \\ \\Delta p^{r} - A^{rs} \\Delta p^{s} = \\Delta d^{r} \\\\\n",
    "-A^{sr} \\ \\Delta p^{r}  = - (I - A^{ss}) \\Delta p^{s}\n",
    "\\end{array}\n",
    "\\right. \\implies\n",
    "\\left\\{\n",
    "\\begin{array}{l}\n",
    "(I -  A^{rr}) \\ \\Delta p^{r} - A^{rs} \\Delta p^{s} = \\Delta d^{r} \\\\\n",
    "A^{sr} \\ \\Delta p^{r}  = (I - A^{ss}) \\Delta p^{s}\n",
    "\\end{array}\n",
    "\\right.  \\implies\n",
    "\\left\\{\n",
    "\\begin{array}{l}\n",
    "(I -  A^{rr}) \\ \\Delta p^{r} - A^{rs} \\Delta p^{s} = \\Delta d^{r} \\\\\n",
    "(I - A^{ss})^{-1} A^{sr} \\ \\Delta p^{r}  =  \\Delta p^{s}\n",
    "\\end{array}\n",
    "\\right.\n",
    "$$  "
   ]
  },
  {
   "cell_type": "markdown",
   "id": "772c1019-b5be-4f69-a165-6b4861b45fa0",
   "metadata": {},
   "source": [
    "Reemplazando en la primera ecuación :"
   ]
  },
  {
   "cell_type": "markdown",
   "id": "1dc9c78c-2eaa-430b-937a-3ac67dc9d8ef",
   "metadata": {},
   "source": [
    "$$ \n",
    "(I -  A^{rr}) \\ \\Delta p^{r} - A^{rs} (I - A^{ss})^{-1} A^{sr} \\ \\Delta p^{r} = \\Delta d^{r} \\implies  (I -  A^{rr} -  A^{rs} (I - A^{ss})^{-1} A^{sr} ) \\ \\Delta p^{r} = \\Delta d^{r}\n",
    "$$"
   ]
  },
  {
   "cell_type": "markdown",
   "id": "647e6635-6272-4897-9f99-a9a0846ff726",
   "metadata": {},
   "source": [
    "Por último, si también $(I -  A^{rr} -  A^{rs} (I - A^{ss})^{-1} A^{sr} )$ es inversible entonces:"
   ]
  },
  {
   "cell_type": "markdown",
   "id": "2c45fb65-02b9-4bf6-8dc6-c64488f4ba09",
   "metadata": {},
   "source": [
    "$$ \n",
    "  \\Delta p^{r} = (I -  A^{rr} -  A^{rs} (I - A^{ss})^{-1} A^{sr} )^{-1} \\Delta d^{r}\n",
    "$$"
   ]
  },
  {
   "cell_type": "markdown",
   "id": "5abbc008-c477-449b-ade9-7ddf049398dc",
   "metadata": {},
   "source": [
    "Que es la expresión a la que se quería llegar"
   ]
  },
  {
   "cell_type": "markdown",
   "id": "d2639a79-58e5-482a-afb5-e1f6efdfb3d0",
   "metadata": {},
   "source": [
    "### Consigna 7"
   ]
  },
  {
   "cell_type": "markdown",
   "id": "1d1e4361-a096-4274-a349-3a4319849424",
   "metadata": {},
   "source": [
    "Al simular el shock sobre los sectores S05,S06,S07 y S08 del pais P1, se obtiene lo siguiente para la variación de la producción sobre los sectores de esta región"
   ]
  },
  {
   "cell_type": "code",
   "execution_count": 39,
   "id": "ed1bf2f4-1fda-4d42-847a-e969ec91743d",
   "metadata": {},
   "outputs": [
    {
     "name": "stdout",
     "output_type": "stream",
     "text": [
      "[[1.06253870e+00 4.51188927e-04 0.00000000e+00 ... 8.72278561e-04\n",
      "  7.48361261e-04 9.82867519e-03]\n",
      " [1.21837195e-04 1.00013622e+00 0.00000000e+00 ... 6.78506962e-05\n",
      "  3.49776002e-05 1.03570145e-03]\n",
      " [0.00000000e+00 0.00000000e+00 1.00000000e+00 ... 0.00000000e+00\n",
      "  0.00000000e+00 0.00000000e+00]\n",
      " ...\n",
      " [3.06743473e-02 1.33459875e-02 0.00000000e+00 ... 1.12338556e+00\n",
      "  7.55724039e-02 2.61958721e-02]\n",
      " [1.57701959e-02 2.18746253e-02 0.00000000e+00 ... 7.54907360e-02\n",
      "  1.05349584e+00 9.37046507e-02]\n",
      " [5.55789557e-02 4.75956237e-02 0.00000000e+00 ... 7.24405899e-02\n",
      "  3.68821919e-02 1.10904615e+00]]\n",
      "[[1.06253788e+00 4.51133415e-04 0.00000000e+00 ... 8.72209764e-04\n",
      "  7.48312354e-04 9.82813404e-03]\n",
      " [1.21830415e-04 1.00013622e+00 0.00000000e+00 ... 6.78498666e-05\n",
      "  3.49770366e-05 1.03569669e-03]\n",
      " [0.00000000e+00 0.00000000e+00 1.00000000e+00 ... 0.00000000e+00\n",
      "  0.00000000e+00 0.00000000e+00]\n",
      " ...\n",
      " [3.06736085e-02 1.33455961e-02 0.00000000e+00 ... 1.12338534e+00\n",
      "  7.55722344e-02 2.61952208e-02]\n",
      " [1.57687504e-02 2.18737554e-02 0.00000000e+00 ... 7.54902107e-02\n",
      "  1.05349542e+00 9.37032026e-02]\n",
      " [5.55774957e-02 4.75948703e-02 0.00000000e+00 ... 7.24401946e-02\n",
      "  3.68818802e-02 1.10904499e+00]]\n",
      "\n",
      "\n"
     ]
    },
    {
     "data": {
      "image/png": "[encoded data removed]",
      "text/plain": [
       "<Figure size 1200x600 with 1 Axes>"
      ]
     },
     "metadata": {},
     "output_type": "display_data"
    }
   ],
   "source": [
    "data = '../data/matrizlatina2011_compressed_0.xlsx'\n",
    "\n",
    "p1 ='SLV'\n",
    "p2= 'NIC'\n",
    "df = generar_Matriz_InsumoProducto(p1, p2, data)\n",
    "dp1, dp2 = obtener_demanda(p1, p2, df)\n",
    "porcentaje_shock_sector = {5:-10,6:3.3,7:3.3, 8:3.3}\n",
    "variacion_de_la_demanda = variacion_demanda(dp1, porcentaje_shock_sector)\n",
    "A_p1p1, A_p1p2, A_p2p2, A_p2p1, producto_p1, producto_p2 = generar_submatrices(p1, p2, df)\n",
    "variacion_compleja = variacion_produccion_modelo_complejo(A_p1p1, A_p1p2, A_p2p2, A_p2p1, variacion_de_la_demanda )\n",
    "variacion_simple = variacion_produccion_modelo_simple(A_p1p1,variacion_demanda(dp1, porcentaje_sector))\n",
    "\n",
    "sectores = np.arange(1,41)\n",
    "indice = np.arange(40)\n",
    "\n",
    "plt.figure(figsize=(12, 6))\n",
    "\n",
    "plt.scatter(indice, variacion_simple, label='Modelo simple',color='blue', marker='o')\n",
    "plt.scatter(indice, variacion_compleja, label='Modelo interregional',color='red', marker='x')\n",
    "\n",
    "plt.xticks(indice, sectores)\n",
    "plt.xlabel('Sector')\n",
    "plt.ylabel('Variación de la producción (en millones de US$)')\n",
    "plt.title('Variación de la producción tras el shock')\n",
    "plt.tight_layout()\n",
    "plt.legend()\n",
    "plt.show()"
   ]
  },
  {
   "cell_type": "markdown",
   "id": "99917faf-528d-4682-8a2e-c44109c1a861",
   "metadata": {},
   "source": [
    "Como es de esperarse, en ambos modelos los sectores que tuvieron un shock positivo tienen también una variación positiva de la producción. Mientras que el sector que sufrió un shock negativo tiene una disminución en la misma.  \n",
    "Del gráfico se puede ver que prácticamente no hay diferencias entre usar el modelo simple y el interregional para calcular la variación de la producción del pais p1 (por lo menos en este caso) . De hecho, si se observa con cuidado la ecuación 5 se puede ver que es un caso particular de la 6 donde "
   ]
  },
  {
   "cell_type": "markdown",
   "id": "45b8dfa0-12d2-4353-a41d-06558d449271",
   "metadata": {},
   "source": [
    "$$\n",
    "A^{rs} (I - A^{ss})^{-1} A^{sr} = 0\n",
    "$$"
   ]
  },
  {
   "cell_type": "markdown",
   "id": "694d7d27-683c-4b15-b4eb-3d52edb90565",
   "metadata": {},
   "source": [
    "Con lo cual en este caso ese termino debe ser cercano al 0 (la matriz cero)"
   ]
  },
  {
   "cell_type": "code",
   "execution_count": null,
   "id": "27343e7a-cbf5-4763-8304-f5d5bbb7f86b",
   "metadata": {},
   "outputs": [],
   "source": []
  }
 ],
 "metadata": {
  "kernelspec": {
   "display_name": "Python 3 (ipykernel)",
   "language": "python",
   "name": "python3"
  },
  "language_info": {
   "codemirror_mode": {
    "name": "ipython",
    "version": 3
   },
   "file_extension": ".py",
   "mimetype": "text/x-python",
   "name": "python",
   "nbconvert_exporter": "python",
   "pygments_lexer": "ipython3",
   "version": "3.12.4"
  }
 },
 "nbformat": 4,
 "nbformat_minor": 5
}
